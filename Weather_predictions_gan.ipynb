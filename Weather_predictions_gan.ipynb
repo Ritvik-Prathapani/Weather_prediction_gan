{
 "cells": [
  {
   "cell_type": "code",
   "execution_count": 1,
   "id": "decdb89f-65c2-4f50-8de7-af22f3c71cde",
   "metadata": {},
   "outputs": [
    {
     "name": "stderr",
     "output_type": "stream",
     "text": [
      "2024-05-02 13:27:33.677183: I tensorflow/core/platform/cpu_feature_guard.cc:182] This TensorFlow binary is optimized to use available CPU instructions in performance-critical operations.\n",
      "To enable the following instructions: SSE4.1 SSE4.2 AVX AVX2 FMA, in other operations, rebuild TensorFlow with the appropriate compiler flags.\n"
     ]
    }
   ],
   "source": [
    "import torch\n",
    "import torch.nn as nn\n",
    "import torch.optim as optim\n",
    "import pandas as pd\n",
    "from sklearn.preprocessing import LabelEncoder\n",
    "from sklearn.model_selection import train_test_split\n",
    "from tensorflow.keras.models import load_model\n",
    "import numpy as np\n",
    "import tensorflow as tf"
   ]
  },
  {
   "cell_type": "code",
   "execution_count": 5,
   "id": "0d510940-311d-4516-b8af-fcd915f90e28",
   "metadata": {},
   "outputs": [],
   "source": [
    "# Read the weather data from CSV\n",
    "data = pd.read_csv(\"weatherHistory.csv\")"
   ]
  },
  {
   "cell_type": "code",
   "execution_count": 6,
   "id": "c72979d8-c44e-42c8-bf49-7380b0b4abf7",
   "metadata": {},
   "outputs": [],
   "source": [
    "features = data[['Temperature (C)', 'Apparent Temperature (C)', 'Humidity', 'Wind Speed (km/h)', 'Wind Bearing (degrees)', 'Visibility (km)', 'Pressure (millibars)']]\n",
    "target = data['Precip Type']"
   ]
  },
  {
   "cell_type": "code",
   "execution_count": 8,
   "id": "e59b3049-8b0f-4f9e-9d3f-567e7d2d30db",
   "metadata": {},
   "outputs": [],
   "source": [
    "# Encode the target variable\n",
    "label_encoder = LabelEncoder()\n",
    "target = label_encoder.fit_transform(target)\n",
    "\n",
    "# Split the data into training and testing sets\n",
    "X_train, X_test, y_train, y_test = train_test_split(features, target, test_size=0.2, random_state=42)\n",
    "\n",
    "# Convert to PyTorch tensors\n",
    "X_train = torch.tensor(X_train.values, dtype=torch.float32)\n",
    "y_train = torch.tensor(y_train, dtype=torch.long)\n",
    "X_test = torch.tensor(X_test.values, dtype=torch.float32)\n",
    "y_test = torch.tensor(y_test, dtype=torch.long)\n"
   ]
  },
  {
   "cell_type": "code",
   "execution_count": 11,
   "id": "4cd42521-b13e-4959-9a67-39b80809cb27",
   "metadata": {},
   "outputs": [],
   "source": [
    "#Instantiate the models\n",
    "input_dim = X_train.shape[1]\n",
    "output_dim = len(label_encoder.classes_)\n",
    "generator = Generator(input_dim, output_dim)\n",
    "discriminator = Discriminator(input_dim + output_dim, 1)  # Modify the input_dim and output_dim\n",
    "\n",
    "# Define the loss functions and optimizers\n",
    "criterion = nn.BCELoss()\n",
    "gen_optimizer = optim.Adam(generator.parameters(), lr=0.0002)\n",
    "disc_optimizer = optim.Adam(discriminator.parameters(), lr=0.0002)"
   ]
  },
  {
   "cell_type": "code",
   "execution_count": 10,
   "id": "867491a1-5dde-4b1e-b146-7a5aaca623c3",
   "metadata": {},
   "outputs": [],
   "source": [
    "# Define the Generator and Discriminator models\n",
    "class Generator(nn.Module):\n",
    "    def __init__(self, input_dim, output_dim):\n",
    "        super(Generator, self).__init__()\n",
    "        self.model = nn.Sequential(\n",
    "            nn.Linear(input_dim, 64),\n",
    "            nn.LeakyReLU(0.2),\n",
    "            nn.Linear(64, 128),\n",
    "            nn.BatchNorm1d(128),\n",
    "            nn.LeakyReLU(0.2),\n",
    "            nn.Linear(128, output_dim)\n",
    "        )\n",
    "\n",
    "    def forward(self, x):\n",
    "        return self.model(x)\n",
    "\n",
    "class Discriminator(nn.Module):\n",
    "    def __init__(self, input_dim, output_dim):\n",
    "        super(Discriminator, self).__init__()\n",
    "        self.model = nn.Sequential(\n",
    "            nn.Linear(input_dim, 64),\n",
    "            nn.LeakyReLU(0.2),\n",
    "            nn.Linear(64, 128),\n",
    "            nn.LeakyReLU(0.2),\n",
    "            nn.Linear(128, output_dim),\n",
    "            nn.Sigmoid()\n",
    "        )\n",
    "\n",
    "    def forward(self, x):\n",
    "        return self.model(x)\n"
   ]
  },
  {
   "cell_type": "code",
   "execution_count": 17,
   "id": "b30aead2-c62a-4656-9297-61536e40cdd2",
   "metadata": {},
   "outputs": [
    {
     "name": "stdout",
     "output_type": "stream",
     "text": [
      "Epoch 1/100, Discriminator Loss: 1.0253, Generator Loss: 0.4923\n",
      "Epoch 2/100, Discriminator Loss: 0.7815, Generator Loss: 0.6685\n",
      "Epoch 3/100, Discriminator Loss: 0.6673, Generator Loss: 0.7182\n",
      "Epoch 4/100, Discriminator Loss: 0.6591, Generator Loss: 0.7368\n",
      "Epoch 5/100, Discriminator Loss: 0.9223, Generator Loss: 0.5028\n",
      "Epoch 6/100, Discriminator Loss: 0.4712, Generator Loss: 1.0174\n",
      "Epoch 7/100, Discriminator Loss: 1.0929, Generator Loss: 0.4212\n",
      "Epoch 8/100, Discriminator Loss: 0.6461, Generator Loss: 0.7581\n",
      "Epoch 9/100, Discriminator Loss: 0.4062, Generator Loss: 1.2027\n",
      "Epoch 10/100, Discriminator Loss: 0.8075, Generator Loss: 0.6240\n",
      "Epoch 11/100, Discriminator Loss: 0.8669, Generator Loss: 0.5639\n",
      "Epoch 12/100, Discriminator Loss: 0.7990, Generator Loss: 0.6352\n",
      "Epoch 13/100, Discriminator Loss: 1.1033, Generator Loss: 0.4590\n",
      "Epoch 14/100, Discriminator Loss: 0.7573, Generator Loss: 0.5059\n",
      "Epoch 15/100, Discriminator Loss: 0.7862, Generator Loss: 0.6954\n",
      "Epoch 16/100, Discriminator Loss: 0.6730, Generator Loss: 0.8266\n",
      "Epoch 17/100, Discriminator Loss: 0.9441, Generator Loss: 0.4924\n",
      "Epoch 18/100, Discriminator Loss: 1.0227, Generator Loss: 0.4453\n",
      "Epoch 19/100, Discriminator Loss: 0.6697, Generator Loss: 0.7430\n",
      "Epoch 20/100, Discriminator Loss: 0.7790, Generator Loss: 0.6182\n",
      "Epoch 21/100, Discriminator Loss: 0.4718, Generator Loss: 1.0161\n",
      "Epoch 22/100, Discriminator Loss: 0.7919, Generator Loss: 0.6116\n",
      "Epoch 23/100, Discriminator Loss: 0.8877, Generator Loss: 0.5820\n",
      "Epoch 24/100, Discriminator Loss: 0.9766, Generator Loss: 0.4939\n",
      "Epoch 25/100, Discriminator Loss: 0.8562, Generator Loss: 0.5506\n",
      "Epoch 26/100, Discriminator Loss: 0.7748, Generator Loss: 0.5941\n",
      "Epoch 27/100, Discriminator Loss: 1.1301, Generator Loss: 0.4479\n",
      "Epoch 28/100, Discriminator Loss: 0.4827, Generator Loss: 0.9714\n",
      "Epoch 29/100, Discriminator Loss: 0.7939, Generator Loss: 0.6218\n",
      "Epoch 30/100, Discriminator Loss: 0.6284, Generator Loss: 0.7868\n",
      "Epoch 31/100, Discriminator Loss: 0.7849, Generator Loss: 0.6302\n",
      "Epoch 32/100, Discriminator Loss: 1.0224, Generator Loss: 0.4794\n",
      "Epoch 33/100, Discriminator Loss: 0.5729, Generator Loss: 0.8729\n",
      "Epoch 34/100, Discriminator Loss: 0.5976, Generator Loss: 0.8189\n",
      "Epoch 35/100, Discriminator Loss: 0.7011, Generator Loss: 0.7086\n",
      "Epoch 36/100, Discriminator Loss: 1.1059, Generator Loss: 0.4343\n",
      "Epoch 37/100, Discriminator Loss: 0.5835, Generator Loss: 0.8568\n",
      "Epoch 38/100, Discriminator Loss: 0.3955, Generator Loss: 1.1822\n",
      "Epoch 39/100, Discriminator Loss: 0.7774, Generator Loss: 0.6278\n",
      "Epoch 40/100, Discriminator Loss: 0.7128, Generator Loss: 0.6726\n",
      "Epoch 41/100, Discriminator Loss: 0.6702, Generator Loss: 0.7441\n",
      "Epoch 42/100, Discriminator Loss: 0.6673, Generator Loss: 0.7291\n",
      "Epoch 43/100, Discriminator Loss: 0.6657, Generator Loss: 0.7345\n",
      "Epoch 44/100, Discriminator Loss: 0.9073, Generator Loss: 0.5275\n",
      "Epoch 45/100, Discriminator Loss: 0.5940, Generator Loss: 0.7998\n",
      "Epoch 46/100, Discriminator Loss: 0.7531, Generator Loss: 0.6473\n",
      "Epoch 47/100, Discriminator Loss: 0.5364, Generator Loss: 0.9240\n",
      "Epoch 48/100, Discriminator Loss: 0.8117, Generator Loss: 0.5932\n",
      "Epoch 49/100, Discriminator Loss: 0.7279, Generator Loss: 0.6496\n",
      "Epoch 50/100, Discriminator Loss: 0.5332, Generator Loss: 0.9114\n",
      "Epoch 51/100, Discriminator Loss: 0.6966, Generator Loss: 0.7038\n",
      "Epoch 52/100, Discriminator Loss: 0.8678, Generator Loss: 0.5656\n",
      "Epoch 53/100, Discriminator Loss: 0.7821, Generator Loss: 0.6771\n",
      "Epoch 54/100, Discriminator Loss: 0.5408, Generator Loss: 0.8860\n",
      "Epoch 55/100, Discriminator Loss: 0.6803, Generator Loss: 0.7103\n",
      "Epoch 56/100, Discriminator Loss: 0.7723, Generator Loss: 0.6229\n",
      "Epoch 57/100, Discriminator Loss: 0.7726, Generator Loss: 0.6278\n",
      "Epoch 58/100, Discriminator Loss: 0.6115, Generator Loss: 0.7306\n",
      "Epoch 59/100, Discriminator Loss: 0.5458, Generator Loss: 0.8786\n",
      "Epoch 60/100, Discriminator Loss: 0.7521, Generator Loss: 0.6771\n",
      "Epoch 61/100, Discriminator Loss: 0.6099, Generator Loss: 0.8144\n",
      "Epoch 62/100, Discriminator Loss: 1.0066, Generator Loss: 0.4545\n",
      "Epoch 63/100, Discriminator Loss: 0.8734, Generator Loss: 0.5384\n",
      "Epoch 64/100, Discriminator Loss: 0.5791, Generator Loss: 0.8274\n",
      "Epoch 65/100, Discriminator Loss: 0.7412, Generator Loss: 0.6639\n",
      "Epoch 66/100, Discriminator Loss: 0.9086, Generator Loss: 0.5598\n",
      "Epoch 67/100, Discriminator Loss: 0.5221, Generator Loss: 0.8957\n",
      "Epoch 68/100, Discriminator Loss: 0.7539, Generator Loss: 0.6485\n",
      "Epoch 69/100, Discriminator Loss: 0.6880, Generator Loss: 0.7367\n",
      "Epoch 70/100, Discriminator Loss: 0.5388, Generator Loss: 0.9515\n",
      "Epoch 71/100, Discriminator Loss: 0.7886, Generator Loss: 0.6425\n",
      "Epoch 72/100, Discriminator Loss: 0.7862, Generator Loss: 0.6205\n",
      "Epoch 73/100, Discriminator Loss: 0.8766, Generator Loss: 0.5366\n",
      "Epoch 74/100, Discriminator Loss: 0.5186, Generator Loss: 0.9503\n",
      "Epoch 75/100, Discriminator Loss: 0.6781, Generator Loss: 0.6964\n",
      "Epoch 76/100, Discriminator Loss: 0.7667, Generator Loss: 0.5778\n",
      "Epoch 77/100, Discriminator Loss: 0.4779, Generator Loss: 0.9821\n",
      "Epoch 78/100, Discriminator Loss: 0.7130, Generator Loss: 0.6748\n",
      "Epoch 79/100, Discriminator Loss: 1.0788, Generator Loss: 0.5215\n",
      "Epoch 80/100, Discriminator Loss: 0.8602, Generator Loss: 0.6151\n",
      "Epoch 81/100, Discriminator Loss: 0.3232, Generator Loss: 1.6665\n",
      "Epoch 82/100, Discriminator Loss: 0.6946, Generator Loss: 0.7772\n",
      "Epoch 83/100, Discriminator Loss: 0.6857, Generator Loss: 0.6973\n",
      "Epoch 84/100, Discriminator Loss: 0.6327, Generator Loss: 0.7620\n",
      "Epoch 85/100, Discriminator Loss: 0.9011, Generator Loss: 0.5462\n",
      "Epoch 86/100, Discriminator Loss: 0.4000, Generator Loss: 1.1346\n",
      "Epoch 87/100, Discriminator Loss: 0.6695, Generator Loss: 0.7008\n",
      "Epoch 88/100, Discriminator Loss: 0.6703, Generator Loss: 0.7129\n",
      "Epoch 89/100, Discriminator Loss: 0.8165, Generator Loss: 0.6158\n",
      "Epoch 90/100, Discriminator Loss: 1.2226, Generator Loss: 0.4393\n",
      "Epoch 91/100, Discriminator Loss: 0.5661, Generator Loss: 0.9291\n",
      "Epoch 92/100, Discriminator Loss: 0.4475, Generator Loss: 1.0521\n",
      "Epoch 93/100, Discriminator Loss: 0.5977, Generator Loss: 0.8226\n",
      "Epoch 94/100, Discriminator Loss: 1.0905, Generator Loss: 0.4378\n",
      "Epoch 95/100, Discriminator Loss: 0.9452, Generator Loss: 0.5122\n",
      "Epoch 96/100, Discriminator Loss: 0.6523, Generator Loss: 0.7461\n",
      "Epoch 97/100, Discriminator Loss: 0.9743, Generator Loss: 0.4743\n",
      "Epoch 98/100, Discriminator Loss: 1.0098, Generator Loss: 0.4190\n",
      "Epoch 99/100, Discriminator Loss: 0.7310, Generator Loss: 0.6695\n",
      "Epoch 100/100, Discriminator Loss: 0.6349, Generator Loss: 0.7797\n"
     ]
    }
   ],
   "source": [
    "import matplotlib.pyplot as plt\n",
    "\n",
    "# Lists to store losses\n",
    "disc_losses = []\n",
    "gen_losses = []\n",
    "\n",
    "# Training loop\n",
    "num_epochs = 100\n",
    "batch_size = 64\n",
    "\n",
    "for epoch in range(num_epochs):\n",
    "    epoch_disc_loss=0.0\n",
    "    epoch_gen_loss=0.0\n",
    "    for i in range(0, X_train.shape[0], batch_size):\n",
    "        # Zero out the gradients\n",
    "        gen_optimizer.zero_grad()\n",
    "        disc_optimizer.zero_grad()\n",
    "\n",
    "        # Get the batch data\n",
    "        real_features = X_train[i:i + batch_size]\n",
    "        real_targets = y_train[i:i + batch_size]\n",
    "\n",
    "        # Generate fake data\n",
    "        fake_targets = generator(real_features)\n",
    "        fake_data = torch.cat((fake_targets, real_features), 1)  # Change the concatenation order\n",
    "\n",
    "        # One-hot encode real targets\n",
    "        real_targets_onehot = torch.zeros((real_targets.size(0), output_dim), dtype=torch.float32)\n",
    "        real_targets_onehot.scatter_(1, real_targets.unsqueeze(1), 1)\n",
    "\n",
    "        real_data = torch.cat((real_targets_onehot, real_features), 1)  # Change the concatenation order\n",
    "\n",
    "        # Train the discriminator\n",
    "        disc_real = discriminator(real_data)\n",
    "        disc_fake = discriminator(fake_data)\n",
    "\n",
    "        disc_loss_real = criterion(disc_real, torch.ones_like(disc_real))\n",
    "        disc_loss_fake = criterion(disc_fake, torch.zeros_like(disc_fake))\n",
    "        disc_loss = (disc_loss_real + disc_loss_fake) / 2\n",
    "\n",
    "        disc_optimizer.zero_grad()\n",
    "        disc_loss.backward()\n",
    "        disc_optimizer.step()\n",
    "\n",
    "        # Train the generator\n",
    "        fake_targets = generator(real_features)\n",
    "        fake_data = torch.cat((fake_targets, real_features), 1)  # Change the concatenation order\n",
    "        gen_output = discriminator(fake_data)\n",
    "        gen_loss = criterion(gen_output, torch.ones_like(gen_output))\n",
    "\n",
    "        gen_optimizer.zero_grad()\n",
    "        gen_loss.backward()\n",
    "        gen_optimizer.step()\n",
    "        \n",
    "        # Accumulate losses\n",
    "        epoch_disc_loss += disc_loss.item()\n",
    "        epoch_gen_loss += gen_loss.item()\n",
    "\n",
    "    # Average losses for the epoch\n",
    "    epoch_disc_loss /= (X_train.shape[0] / batch_size)\n",
    "    epoch_gen_loss /= (X_train.shape[0] / batch_size)\n",
    "\n",
    "    # Store epoch losses\n",
    "    disc_losses.append(epoch_disc_loss)\n",
    "    gen_losses.append(epoch_gen_loss)\n",
    "\n",
    "    \n",
    "\n",
    "    # Print the losses for monitoring\n",
    "    print(f'Epoch {epoch+1}/{num_epochs}, Discriminator Loss: {disc_loss.item():.4f}, Generator Loss: {gen_loss.item():.4f}')\n",
    "\n"
   ]
  },
  {
   "cell_type": "code",
   "execution_count": 19,
   "id": "ec86da97-4c32-4235-886d-513ebbd5857a",
   "metadata": {},
   "outputs": [
    {
     "data": {
      "image/png": "[encoded data removed]",
      "text/plain": [
       "<Figure size 1000x500 with 1 Axes>"
      ]
     },
     "metadata": {},
     "output_type": "display_data"
    }
   ],
   "source": [
    "plt.figure(figsize=(10, 5))\n",
    "plt.plot(range(1, num_epochs+1), disc_losses, label='Discriminator Loss')\n",
    "plt.plot(range(1, num_epochs+1), gen_losses, label='Generator Loss')\n",
    "plt.title('GAN Training Losses')\n",
    "plt.xlabel('Epochs')\n",
    "plt.ylabel('Loss')\n",
    "plt.legend()\n",
    "plt.show()"
   ]
  },
  {
   "cell_type": "code",
   "execution_count": 18,
   "id": "060c7ff6-7c08-4e81-8897-28858dac2448",
   "metadata": {},
   "outputs": [
    {
     "name": "stdout",
     "output_type": "stream",
     "text": [
      "Test Accuracy: 0.8801\n"
     ]
    }
   ],
   "source": [
    "generator.eval()\n",
    "with torch.no_grad():\n",
    "    test_targets = generator(X_test)\n",
    "    test_targets = torch.argmax(test_targets, dim=1)\n",
    "    accuracy = (test_targets == y_test).float().mean()\n",
    "    print(f'Test Accuracy: {accuracy:.4f}')"
   ]
  },
  {
   "cell_type": "code",
   "execution_count": 38,
   "id": "0223a0e0-e326-4d8e-9a5f-e458a03997e2",
   "metadata": {},
   "outputs": [],
   "source": [
    "import numpy as np\n",
    "\n",
    "# Initialize list to store generated data\n",
    "generated_data = []\n",
    "\n",
    "# Generate synthetic data\n",
    "with torch.no_grad():\n",
    "    for i in range(100):  # Generate 100 samples\n",
    "        fake_targets = generator(X_test)\n",
    "        fake_data = torch.cat((fake_targets, X_test), 1)\n",
    "        generated_data.append(fake_data.numpy())\n",
    "\n",
    "# Convert generated data list to numpy array\n",
    "generated_data_np = np.array(generated_data)\n",
    "\n",
    "# Select relevant features from the generated data array\n",
    "relevant_generated_data_np = generated_data_np[:, :, :7]  # Select the first 7 features\n"
   ]
  },
  {
   "cell_type": "code",
   "execution_count": 39,
   "id": "ddcb7611-2dd0-4df2-bf97-7b820d242a01",
   "metadata": {},
   "outputs": [
    {
     "name": "stderr",
     "output_type": "stream",
     "text": [
      "2024-05-02 14:13:26.965534: I tensorflow/core/common_runtime/executor.cc:1197] [/device:CPU:0] (DEBUG INFO) Executor start aborting (this does not indicate an error and you can ignore this message): INVALID_ARGUMENT: You must feed a value for placeholder tensor 'gradients/split_2_grad/concat/split_2/split_dim' with dtype int32\n",
      "\t [[{{node gradients/split_2_grad/concat/split_2/split_dim}}]]\n",
      "2024-05-02 14:13:26.966511: I tensorflow/core/common_runtime/executor.cc:1197] [/device:CPU:0] (DEBUG INFO) Executor start aborting (this does not indicate an error and you can ignore this message): INVALID_ARGUMENT: You must feed a value for placeholder tensor 'gradients/split_grad/concat/split/split_dim' with dtype int32\n",
      "\t [[{{node gradients/split_grad/concat/split/split_dim}}]]\n",
      "2024-05-02 14:13:26.967222: I tensorflow/core/common_runtime/executor.cc:1197] [/device:CPU:0] (DEBUG INFO) Executor start aborting (this does not indicate an error and you can ignore this message): INVALID_ARGUMENT: You must feed a value for placeholder tensor 'gradients/split_1_grad/concat/split_1/split_dim' with dtype int32\n",
      "\t [[{{node gradients/split_1_grad/concat/split_1/split_dim}}]]\n"
     ]
    }
   ],
   "source": [
    "# Load the RNN model from the H5 file\n",
    "rnn_model = load_model('weather_prediction_model.h5')  "
   ]
  },
  {
   "cell_type": "code",
   "execution_count": 40,
   "id": "b16a7152-cb10-4a16-ae27-559d08bbf96b",
   "metadata": {},
   "outputs": [
    {
     "name": "stdout",
     "output_type": "stream",
     "text": [
      "32/32 [==============================] - 0s 2ms/step\n"
     ]
    },
    {
     "name": "stderr",
     "output_type": "stream",
     "text": [
      "2024-05-02 14:13:28.073617: I tensorflow/core/common_runtime/executor.cc:1197] [/device:CPU:0] (DEBUG INFO) Executor start aborting (this does not indicate an error and you can ignore this message): INVALID_ARGUMENT: You must feed a value for placeholder tensor 'gradients/split_2_grad/concat/split_2/split_dim' with dtype int32\n",
      "\t [[{{node gradients/split_2_grad/concat/split_2/split_dim}}]]\n",
      "2024-05-02 14:13:28.074718: I tensorflow/core/common_runtime/executor.cc:1197] [/device:CPU:0] (DEBUG INFO) Executor start aborting (this does not indicate an error and you can ignore this message): INVALID_ARGUMENT: You must feed a value for placeholder tensor 'gradients/split_grad/concat/split/split_dim' with dtype int32\n",
      "\t [[{{node gradients/split_grad/concat/split/split_dim}}]]\n",
      "2024-05-02 14:13:28.075498: I tensorflow/core/common_runtime/executor.cc:1197] [/device:CPU:0] (DEBUG INFO) Executor start aborting (this does not indicate an error and you can ignore this message): INVALID_ARGUMENT: You must feed a value for placeholder tensor 'gradients/split_1_grad/concat/split_1/split_dim' with dtype int32\n",
      "\t [[{{node gradients/split_1_grad/concat/split_1/split_dim}}]]\n"
     ]
    }
   ],
   "source": [
    "# Select relevant features from the generated data array\n",
    "relevant_generated_data_np = generated_data_np[:, :7]  # Select the first 7 features\n",
    "\n",
    "# Reshape the generated data array to match the expected input shape (batch_size, 1, 7)\n",
    "generated_data_reshaped = relevant_generated_data_np.reshape(-1, 1, 7)\n",
    "\n",
    "# Make predictions using the loaded RNN model\n",
    "with tf.device('/CPU:0'):\n",
    "    rnn_output = rnn_model.predict(generated_data_reshaped)"
   ]
  },
  {
   "cell_type": "code",
   "execution_count": 47,
   "id": "aeff4df4-8dd1-4036-af9d-0844a33619d2",
   "metadata": {},
   "outputs": [
    {
     "name": "stdout",
     "output_type": "stream",
     "text": [
      "Accuracy on the generated data: 88.01%\n"
     ]
    },
    {
     "name": "stderr",
     "output_type": "stream",
     "text": [
      "/tmp/ipykernel_31332/727968535.py:7: DeprecationWarning: elementwise comparison failed; this will raise an error in the future.\n",
      "  ccuracy = np.mean(predicted_labels == y_test_np)\n"
     ]
    }
   ],
   "source": [
    "predicted_labels = np.argmax(rnn_output, axis=1)\n",
    "\n",
    "# Convert y_test to numpy array\n",
    "y_test_np = y_test.numpy()\n",
    "\n",
    "# Calculate accuracy\n",
    "ccuracy = np.mean(predicted_labels == y_test_np)\n",
    "print(f'Accuracy on the generated data: {accuracy * 100:.2f}%')"
   ]
  },
  {
   "cell_type": "code",
   "execution_count": null,
   "id": "5acc2d73-a316-4444-a841-6fef2763c6e8",
   "metadata": {},
   "outputs": [],
   "source": []
  }
 ],
 "metadata": {
  "kernelspec": {
   "display_name": "Python 3 (ipykernel)",
   "language": "python",
   "name": "python3"
  },
  "language_info": {
   "codemirror_mode": {
    "name": "ipython",
    "version": 3
   },
   "file_extension": ".py",
   "mimetype": "text/x-python",
   "name": "python",
   "nbconvert_exporter": "python",
   "pygments_lexer": "ipython3",
   "version": "3.11.5"
  }
 },
 "nbformat": 4,
 "nbformat_minor": 5
}
